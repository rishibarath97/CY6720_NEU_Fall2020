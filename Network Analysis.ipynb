{
 "cells": [
  {
   "cell_type": "markdown",
   "metadata": {},
   "source": [
    "# Import the Packages"
   ]
  },
  {
   "cell_type": "code",
   "execution_count": 1,
   "metadata": {},
   "outputs": [],
   "source": [
    "import pyshark\n",
    "import nest_asyncio\n",
    "nest_asyncio.apply()\n",
    "import pandas as pd\n",
    "import matplotlib.pyplot as plt"
   ]
  },
  {
   "cell_type": "markdown",
   "metadata": {},
   "source": [
    "# Initialize Global Variables"
   ]
  },
  {
   "cell_type": "code",
   "execution_count": 2,
   "metadata": {},
   "outputs": [],
   "source": [
    "dict1 = {}\n",
    "dict2 = {}\n",
    "dict3 = {}\n",
    "data = []\n",
    "df = pd.DataFrame()\n",
    "df_list = []"
   ]
  },
  {
   "cell_type": "markdown",
   "metadata": {},
   "source": [
    "# Function Definitions\n",
    "\n",
    "\n",
    "#### capture_live_packets()\n",
    "\n",
    "In this function, the LiveCapture function of the PyShark package is called. The network interface is sent as a parameter to the LiveCapture function. \n",
    "\n",
    "#### convert_set_list_to_df()\n",
    "\n",
    "The 'set' of data extracted from the packets have to be properly processed. This function would convert list of 'set' created by the get_ip_packet_details(), get_tcp_packet_details(), get_icmp_packet_details() and get_udp_packet_details() to a Pandas DataFrame. These newly created DataFrames are added to a list of dataframe which is processed at the end. \n",
    "\n",
    "#### get_ip_packet_details()\n",
    "\n",
    "The incoming packet contains IP data information that needs to be extracted. This function searches for the 'all fields' key in the incoming data that has been converted to dictionary this values are added to a list of sets. This list of sets is later processed in convert_set_list_to_df().  \n",
    "\n",
    "#### get_tcp_packet_details()\n",
    "\n",
    "The incoming packet contains TCP data information that needs to be extracted. This function searches for the 'all fields' key in the incoming data that has been converted to dictionary this values are added to a list of sets. This list of sets is later processed in convert_set_list_to_df(). \n",
    "\n",
    "#### get_icmp_packet_details()\n",
    "\n",
    "The incoming packet contains ICMP data information that needs to be extracted. This function searches for the 'all fields' key in the incoming data that has been converted to dictionary this values are added to a list of sets. This list of sets is later processed in convert_set_list_to_df(). \n",
    "\n",
    "#### get_udp_packet_details()\n",
    "\n",
    "The incoming packet contains UDP data information that needs to be extracted. This function searches for the 'all fields' key in the incoming data that has been converted to dictionary this values are added to a list of sets. This list of sets is later processed in convert_set_list_to_df(). \n",
    "\n",
    "#### filter_all_traffic_file()\n",
    "\n",
    "This function is called in the capture_live_packets() function. This function ensures that all IP, TCP, ICMP and UDP information from the packets are extracted. \n",
    "\n"
   ]
  },
  {
   "cell_type": "code",
   "execution_count": 3,
   "metadata": {},
   "outputs": [],
   "source": [
    "def capture_live_packets(network_interface):\n",
    "    i=0\n",
    "    capture = pyshark.LiveCapture(interface=network_interface)\n",
    "    for raw_packet in capture.sniff_continuously():\n",
    "        if i < 5000:\n",
    "            filter_all_traffic_file(raw_packet)\n",
    "            i = i+1\n",
    "        else:\n",
    "            break\n",
    "\n",
    "def convert_set_list_to_df(data):\n",
    "    for i in data:\n",
    "        df1 = pd.DataFrame.from_dict(data)\n",
    "        df_list.append(df1)\n",
    "                      \n",
    "def get_ip_packet_details(packet):\n",
    "    dict1 = packet.ip.__dict__['_all_fields']\n",
    "    dict1['Protocol']='IP'\n",
    "    data.append(dict1)\n",
    "            \n",
    "def get_tcp_packet_details(packet):\n",
    "    dict1 = packet.tcp.__dict__['_all_fields']\n",
    "    dict1['Protocol']='TCP'\n",
    "    data.append(dict1)\n",
    "    \n",
    "def get_icmp_packet_details(packet):\n",
    "    dict2 = packet.icmp.__dict__['_all_fields']\n",
    "    dict2['Protocol']='ICMP'\n",
    "    data.append(dict2)\n",
    "    \n",
    "def get_udp_packet_details(packet):\n",
    "    dict3 = packet.udp.__dict__['_all_fields']\n",
    "    dict3['Protocol']='UDP'\n",
    "    data.append(dict3)\n",
    "\n",
    "def filter_all_traffic_file(packet):\n",
    "    if hasattr(packet, 'ip'):\n",
    "        results = get_ip_packet_details(packet)\n",
    "    if hasattr(packet, 'tcp'):\n",
    "        results = get_tcp_packet_details(packet)    \n",
    "    if hasattr(packet, 'icmp'):\n",
    "        results = get_icmp_packet_details(packet)\n",
    "    if hasattr(packet, 'udp'):\n",
    "        results = get_udp_packet_details(packet)\n",
    "    return 0"
   ]
  },
  {
   "cell_type": "markdown",
   "metadata": {},
   "source": [
    "# Main Function Call\n",
    "\n",
    "In the next cell, the network interface that has to be monitored is passed as parameter. While running the code in Raspberry Pi, the network interface would have to be changed accordingly (Based on the _ifconfig_ command). \n",
    "\n",
    "\n",
    "#### Note:\n",
    "Once all the processing is done, we have to combine the list of dataframe to create one dataframe. "
   ]
  },
  {
   "cell_type": "code",
   "execution_count": 4,
   "metadata": {
    "scrolled": true
   },
   "outputs": [],
   "source": [
    "capture_live_packets('ens33')\n",
    "convert_set_list_to_df(data)\n",
    "df = pd.concat(df_list)"
   ]
  },
  {
   "cell_type": "markdown",
   "metadata": {},
   "source": [
    "### Convert Pandas DataFrame to CSV File"
   ]
  },
  {
   "cell_type": "code",
   "execution_count": 5,
   "metadata": {},
   "outputs": [],
   "source": [
    "df.to_csv('Data.csv')"
   ]
  },
  {
   "cell_type": "code",
   "execution_count": 6,
   "metadata": {},
   "outputs": [
    {
     "data": {
      "image/png": "[encoded data removed]",
      "text/plain": [
       "<Figure size 432x288 with 1 Axes>"
      ]
     },
     "metadata": {
      "needs_background": "light"
     },
     "output_type": "display_data"
    }
   ],
   "source": [
    "df = pd.read_csv('Data.csv')\n",
    "icmp_data = (df['Protocol']=='ICMP').sum()\n",
    "ip_data = (df['Protocol']=='IP').sum()\n",
    "tcp_data = (df['Protocol']=='TCP').sum()\n",
    "udp_data = (df['Protocol']=='UDP').sum()\n",
    "fig = plt.figure()\n",
    "ax = fig.add_axes([0,0,1,1])\n",
    "ax.set_xlabel('Protocols')\n",
    "ax.set_ylabel('Packets Captured')\n",
    "protocol = ['ICMP', 'IP', 'TCP', 'UDP']\n",
    "value = [icmp_data,ip_data,tcp_data,udp_data]\n",
    "ax.bar(protocol,value)\n",
    "plt.show()"
   ]
  },
  {
   "cell_type": "code",
   "execution_count": null,
   "metadata": {},
   "outputs": [],
   "source": []
  }
 ],
 "metadata": {
  "kernelspec": {
   "display_name": "Python 3",
   "language": "python",
   "name": "python3"
  },
  "language_info": {
   "codemirror_mode": {
    "name": "ipython",
    "version": 3
   },
   "file_extension": ".py",
   "mimetype": "text/x-python",
   "name": "python",
   "nbconvert_exporter": "python",
   "pygments_lexer": "ipython3",
   "version": "3.8.5"
  }
 },
 "nbformat": 4,
 "nbformat_minor": 4
}
